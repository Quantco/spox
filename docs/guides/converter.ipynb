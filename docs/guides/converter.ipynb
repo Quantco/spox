{
 "cells": [
  {
   "cell_type": "markdown",
   "source": [
    "# Converters"
   ],
   "metadata": {
    "collapsed": false
   }
  },
  {
   "cell_type": "markdown",
   "source": [
    "Spox does not directly offer any _ONNX converters_ (utilities for translating ML models into ONNX), but it can be easily used to implement a _converter protocol_.\n",
    "We'll go over an example way of achieving this.\n",
    "In general, it is easiest to convert operations from libraries like `numpy` or deep learning frameworks, since ONNX follows similar principles."
   ],
   "metadata": {
    "collapsed": false
   }
  },
  {
   "cell_type": "code",
   "execution_count": 1,
   "outputs": [],
   "source": [
    "from typing import Dict\n",
    "import onnx\n",
    "import onnxruntime\n",
    "import numpy\n",
    "from spox import argument, build, Tensor, Var\n",
    "import spox.opset.ai.onnx.v17 as op\n",
    "\n",
    "\n",
    "def run(model: onnx.ModelProto, **kwargs) -> list[numpy.ndarray]:\n",
    "    return onnxruntime.InferenceSession(model.SerializeToString()).run(\n",
    "        None,\n",
    "        {k: numpy.array(v) for k, v in kwargs.items()}\n",
    "    )"
   ],
   "metadata": {
    "collapsed": false
   }
  },
  {
   "cell_type": "markdown",
   "source": [
    "## Functions"
   ],
   "metadata": {
    "collapsed": false
   }
  },
  {
   "cell_type": "markdown",
   "source": [
    "We'll start with simple conversion of Python functions on `numpy.array`s into Spox equivalents on `Var`s (of tensors).\n",
    "\n",
    "Let's define functions computing means on a pair of tensors:"
   ],
   "metadata": {
    "collapsed": false
   }
  },
  {
   "cell_type": "code",
   "execution_count": 2,
   "outputs": [],
   "source": [
    "def arithmetic_mean(a: numpy.ndarray, b: numpy.ndarray) -> numpy.ndarray:\n",
    "    return numpy.divide(numpy.add(a, b), 2)\n",
    "\n",
    "\n",
    "def geometric_mean(a: numpy.ndarray, b: numpy.ndarray) -> numpy.ndarray:\n",
    "    return numpy.sqrt(numpy.multiply(a, b))\n",
    "\n",
    "\n",
    "def harmonic_mean(a: numpy.ndarray, b: numpy.ndarray) -> numpy.ndarray:\n",
    "    return numpy.divide(2., numpy.add(\n",
    "        numpy.reciprocal(a),\n",
    "        numpy.reciprocal(b)\n",
    "    ))"
   ],
   "metadata": {
    "collapsed": false
   }
  },
  {
   "cell_type": "markdown",
   "source": [
    "We can now define equivalents in Spox. We'll follow a _contract_ stating that arguments and results of `numpy.ndarray` become `Var`, which is expected to be a tensor."
   ],
   "metadata": {
    "collapsed": false
   }
  },
  {
   "cell_type": "code",
   "execution_count": 3,
   "outputs": [],
   "source": [
    "def spox_arithmetic_mean(a: Var, b: Var) -> Var:\n",
    "    return op.div(op.add(a, b), op.constant(value_float=2.))\n",
    "\n",
    "\n",
    "def spox_geometric_mean(a: Var, b: Var) -> Var:\n",
    "    return op.sqrt(op.mul(a, b))\n",
    "\n",
    "\n",
    "def spox_harmonic_mean(a: Var, b: Var) -> Var:\n",
    "    return op.div(op.constant(value_float=2.), op.add(\n",
    "        op.reciprocal(a),\n",
    "        op.reciprocal(b)\n",
    "    ))"
   ],
   "metadata": {
    "collapsed": false
   }
  },
  {
   "cell_type": "markdown",
   "source": [
    "## Estimators"
   ],
   "metadata": {
    "collapsed": false
   }
  },
  {
   "cell_type": "markdown",
   "source": [
    "Let's also consider an `sklearn`-like estimator on 'dataframes' (dictionaries of arrays)."
   ],
   "metadata": {
    "collapsed": false
   }
  },
  {
   "cell_type": "code",
   "execution_count": 4,
   "outputs": [],
   "source": [
    "class PairwiseMeans:\n",
    "    kind: str  # 'arithmetic', 'geometric', or 'harmonic'\n",
    "    first: str\n",
    "    second: str  # name of first and second 'column' to find the mean of\n",
    "\n",
    "    def __init__(self, kind: str, first: str, second: str):\n",
    "        self.kind = kind\n",
    "        self.first = first\n",
    "        self.second = second\n",
    "\n",
    "    def predict(self, data: Dict[str, numpy.ndarray]) -> numpy.ndarray:\n",
    "        means = {\n",
    "            'arithmetic': arithmetic_mean,\n",
    "            'geometric': geometric_mean,\n",
    "            'harmonic': harmonic_mean,\n",
    "        }\n",
    "        return means[self.kind](data[self.first], data[self.second])"
   ],
   "metadata": {
    "collapsed": false
   }
  },
  {
   "cell_type": "markdown",
   "source": [
    "The equivalent in Spox could be a class 'decorating' a `PairwiseMeans` instance - consuming it and implementing the same interface, but using `Var`s instead of `numpy.ndarray`."
   ],
   "metadata": {
    "collapsed": false
   }
  },
  {
   "cell_type": "code",
   "execution_count": 5,
   "outputs": [],
   "source": [
    "class SpoxPairwiseMeans:\n",
    "    estimator: PairwiseMeans\n",
    "\n",
    "    def __init__(self, estimator: PairwiseMeans):\n",
    "        self.estimator = estimator\n",
    "\n",
    "    def predict(self, data: Dict[str, Var]) -> Var:\n",
    "        means = {\n",
    "            'arithmetic': spox_arithmetic_mean,\n",
    "            'geometric': spox_geometric_mean,\n",
    "            'harmonic': spox_harmonic_mean,\n",
    "        }\n",
    "        return means[self.estimator.kind](data[self.estimator.first], data[self.estimator.second])"
   ],
   "metadata": {
    "collapsed": false
   }
  },
  {
   "cell_type": "markdown",
   "source": [
    "## Converter"
   ],
   "metadata": {
    "collapsed": false
   }
  },
  {
   "cell_type": "markdown",
   "source": [
    "To provide a simple API for conversion, we can define a `convert` function handling the possible conversions. The mapping could be defined with e.g. a dictionary to make it more dynamically extensible."
   ],
   "metadata": {
    "collapsed": false
   }
  },
  {
   "cell_type": "code",
   "execution_count": 6,
   "outputs": [],
   "source": [
    "def convert(obj):\n",
    "    if obj is arithmetic_mean:\n",
    "        return spox_arithmetic_mean\n",
    "    elif obj is geometric_mean:\n",
    "        return spox_geometric_mean\n",
    "    elif obj is harmonic_mean:\n",
    "        return spox_harmonic_mean\n",
    "    elif type(obj) is PairwiseMeans:\n",
    "        return SpoxPairwiseMeans(obj)\n",
    "    raise ValueError(f\"No converter for: {obj}\")"
   ],
   "metadata": {
    "collapsed": false
   }
  },
  {
   "cell_type": "markdown",
   "source": [
    "To build a model, we have to construct the arguments and pass them with the result to `spox.build`. This could be abstracted away with a usage of `inspect.signature` and by extracting the input types from example input data, but we'll not consider this here."
   ],
   "metadata": {
    "collapsed": false
   }
  },
  {
   "cell_type": "code",
   "execution_count": 7,
   "outputs": [],
   "source": [
    "pairwise_means = PairwiseMeans('harmonic', 'x', 'z')"
   ],
   "metadata": {
    "collapsed": false
   }
  },
  {
   "cell_type": "code",
   "execution_count": 8,
   "outputs": [],
   "source": [
    "vec = Tensor(numpy.float32, ('N',))\n",
    "x, y, z = argument(vec), argument(vec), argument(vec)\n",
    "\n",
    "\n",
    "def simple_convert_build(fun):\n",
    "    return build({'x': x, 'y': y}, {'r': convert(fun)(x, y)})\n",
    "\n",
    "\n",
    "arithmetic_mean_model = simple_convert_build(arithmetic_mean)\n",
    "geometric_mean_model = simple_convert_build(geometric_mean)\n",
    "harmonic_mean_model = simple_convert_build(harmonic_mean)\n",
    "pairwise_means_model = build(\n",
    "    {'x': x, 'y': y, 'z': z},\n",
    "    {'r': convert(pairwise_means).predict({'x': x, 'y': y, 'z': z})}\n",
    ")"
   ],
   "metadata": {
    "collapsed": false
   }
  },
  {
   "cell_type": "markdown",
   "source": [
    "### Checking equivalence"
   ],
   "metadata": {
    "collapsed": false
   }
  },
  {
   "cell_type": "markdown",
   "source": [
    "We can now test equivalence by running the `onnxruntime` with the previously defined `run` utility."
   ],
   "metadata": {
    "collapsed": false
   }
  },
  {
   "cell_type": "code",
   "execution_count": 9,
   "outputs": [],
   "source": [
    "x0 = numpy.array([1, 2, 3], dtype=numpy.float32)\n",
    "y0 = numpy.array([4, 6, 5], dtype=numpy.float32)\n",
    "z0 = numpy.array([-2, -1, -0.5], dtype=numpy.float32)"
   ],
   "metadata": {
    "collapsed": false
   }
  },
  {
   "cell_type": "markdown",
   "source": [
    "An example run looks like this. Note that this is not going through Spox, as at this point `arithmetic_mean_model` is an `onnx.ModelProto`."
   ],
   "metadata": {
    "collapsed": false
   }
  },
  {
   "cell_type": "code",
   "execution_count": 10,
   "outputs": [
    {
     "data": {
      "text/plain": "(array([2.5, 4. , 4. ], dtype=float32), array([2.5, 4. , 4. ], dtype=float32))"
     },
     "execution_count": 10,
     "metadata": {},
     "output_type": "execute_result"
    }
   ],
   "source": [
    "arithmetic_mean(x0, y0), run(arithmetic_mean_model, x=x0, y=y0)[0]"
   ],
   "metadata": {
    "collapsed": false
   }
  },
  {
   "cell_type": "code",
   "execution_count": 11,
   "outputs": [
    {
     "name": "stdout",
     "output_type": "stream",
     "text": [
      "[2.5 4.  4. ] [2.5 4.  4. ]\n",
      "[2.        3.4641016 3.8729835] [2.        3.4641016 3.8729835]\n",
      "[1.6       3.        3.7499998] [1.6       3.        3.7499998]\n"
     ]
    }
   ],
   "source": [
    "tests = [\n",
    "    (arithmetic_mean, arithmetic_mean_model),\n",
    "    (geometric_mean, geometric_mean_model),\n",
    "    (harmonic_mean, harmonic_mean_model),\n",
    "]\n",
    "for py_function, onnx_model in tests:\n",
    "    actual = run(onnx_model, x=x0, y=y0)[0]\n",
    "    desired = py_function(x0, y0)\n",
    "    print(actual, desired)\n",
    "    numpy.testing.assert_allclose(actual, desired)"
   ],
   "metadata": {
    "collapsed": false
   }
  },
  {
   "cell_type": "code",
   "execution_count": 12,
   "outputs": [
    {
     "name": "stdout",
     "output_type": "stream",
     "text": [
      "[ 4.  -4.  -1.2] [ 4.  -4.  -1.2]\n"
     ]
    }
   ],
   "source": [
    "actual = run(pairwise_means_model, x=x0, y=y0, z=z0)[0]\n",
    "desired = pairwise_means.predict({'x': x0, 'y': y0, 'z': z0})\n",
    "print(actual, desired)\n",
    "numpy.testing.assert_allclose(actual, desired)"
   ],
   "metadata": {
    "collapsed": false
   }
  }
 ],
 "metadata": {
  "kernelspec": {
   "display_name": "Python 3",
   "language": "python",
   "name": "python3"
  },
  "language_info": {
   "codemirror_mode": {
    "name": "ipython",
    "version": 2
   },
   "file_extension": ".py",
   "mimetype": "text/x-python",
   "name": "python",
   "nbconvert_exporter": "python",
   "pygments_lexer": "ipython2",
   "version": "2.7.6"
  }
 },
 "nbformat": 4,
 "nbformat_minor": 0
}
