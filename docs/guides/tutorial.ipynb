{
 "cells": [
  {
   "cell_type": "markdown",
   "id": "28f96d8a-c7b3-4685-aa24-2b0ede14807f",
   "metadata": {},
   "source": [
    "# Tutorial"
   ]
  },
  {
   "cell_type": "markdown",
   "id": "87ab6f0e-e0a4-4fa6-817d-4d350f498a40",
   "metadata": {},
   "source": [
    "## Introduction"
   ]
  },
  {
   "cell_type": "code",
   "execution_count": 1,
   "id": "0b7cc883-5089-4407-b908-271dd1a24841",
   "metadata": {
    "tags": []
   },
   "outputs": [],
   "source": [
    "import numpy as np\n",
    "import spox"
   ]
  },
  {
   "cell_type": "markdown",
   "id": "249f3e02-1fd5-4142-a2d5-e5a2ae49662f",
   "metadata": {
    "tags": []
   },
   "source": [
    "### Types"
   ]
  },
  {
   "cell_type": "markdown",
   "id": "58fbc5ce-d274-451c-913e-a90c92d9f2d0",
   "metadata": {},
   "source": [
    "Before creating an ONNX model we will have to specify argument argument types, so that Spox can conduct inference and create a correct model. \n",
    "\n",
    "Spox exposes types like `Tensor`, `Sequence`, `Optional`. `Tensor` is the most common."
   ]
  },
  {
   "cell_type": "markdown",
   "id": "47b7bfb7-68cc-4892-ac4c-7b4f3c14992c",
   "metadata": {},
   "source": [
    "In this example, we specify:\n",
    "\n",
    "\n",
    "- Vector of 32-bit floats\n",
    "- K by 2 matrix (K pairs) of 64-bit integers.\n",
    "- Array of strings of unknown shape."
   ]
  },
  {
   "cell_type": "code",
   "execution_count": 2,
   "id": "7cffd312-03b8-4ff2-9a7f-4acc3ec045c6",
   "metadata": {
    "tags": []
   },
   "outputs": [],
   "source": [
    "VectorF32 = spox.Tensor(np.float32, (None,))\n",
    "KPairsI64 = spox.Tensor(np.int64, ('K', 2))\n",
    "Strings = spox.Tensor(np.str_)"
   ]
  },
  {
   "cell_type": "markdown",
   "id": "727bc6ea-afad-4b62-bde0-fd0de7fbb560",
   "metadata": {},
   "source": [
    "In shape dimensions:\n",
    "\n",
    "- Integers are used for constant, known dimensions.\n",
    "- Strings and `None` are used for dimensions unknown at runtime.\n",
    "\n",
    "- With strings we can add basic annotations for dimensions that are the same accross many shapes (and tensors).\n",
    "\n",
    "Sometimes (especially if shape inference fails), a shape is entirely unknown, including its rank. This may be an error when specifying the entire model, but is nevertheless possible.\n",
    "\n",
    "Spox provides some neater C-style string representations for this."
   ]
  },
  {
   "cell_type": "code",
   "execution_count": 3,
   "id": "ed672f2b-326d-43b9-afd1-96d6c68db585",
   "metadata": {
    "tags": []
   },
   "outputs": [
    {
     "name": "stdout",
     "output_type": "stream",
     "text": [
      "VectorF32 = float32[?]\n",
      "KPairsI64 = int64[K][2]\n",
      "Strings = str[...]\n"
     ]
    }
   ],
   "source": [
    "print(f\"{VectorF32 = !s}\")\n",
    "print(f\"{KPairsI64 = !s}\")\n",
    "print(f\"{Strings = !s}\")"
   ]
  },
  {
   "cell_type": "markdown",
   "id": "2936ab50-dcf4-40bd-9e54-51ddfdac8a2e",
   "metadata": {},
   "source": [
    "### Vars"
   ]
  },
  {
   "cell_type": "markdown",
   "id": "db277c34-6b87-4eb1-b179-4adefaa658f2",
   "metadata": {},
   "source": [
    "To start performing any interesting computation, you have to get your hands on an instance of `Var`.\n",
    "\n",
    "You could create a constant-valued Var with a respective operator, but it's more useful to create an **argument** (a placeholder for a value), which will later become a **model input**.\n",
    "\n",
    "The function used for creating an argument is `spox.argument(typ: Type) -> Var`."
   ]
  },
  {
   "cell_type": "code",
   "execution_count": 4,
   "id": "9291d186-da97-4ed8-8a1a-2bea6464e200",
   "metadata": {
    "tags": []
   },
   "outputs": [],
   "source": [
    "u = spox.argument(VectorF32)\n",
    "v = spox.argument(VectorF32)"
   ]
  },
  {
   "cell_type": "markdown",
   "id": "6eaa952a-729d-47a3-853b-7e91afe7aff1",
   "metadata": {},
   "source": [
    "String representations for Vars tell you a bit on what information they store:"
   ]
  },
  {
   "cell_type": "code",
   "execution_count": 5,
   "id": "7bebdd13-cd62-4c67-97b1-1325d91837fd",
   "metadata": {
    "tags": []
   },
   "outputs": [
    {
     "name": "stdout",
     "output_type": "stream",
     "text": [
      "u = <Var from spox.internal@0::Argument->arg of float32[?]>\n"
     ]
    }
   ],
   "source": [
    "print(f\"{u = !s}\")"
   ]
  },
  {
   "cell_type": "markdown",
   "id": "025d6828-d9ed-4436-9c9d-0d2ca99fd683",
   "metadata": {},
   "source": [
    "As we expected, `u` is an argument `Var`, which is a vector of 32-bit floats."
   ]
  },
  {
   "cell_type": "markdown",
   "id": "ba35d8d2-a68c-4800-872a-a9f66fb0ef3c",
   "metadata": {},
   "source": [
    "## Construction"
   ]
  },
  {
   "cell_type": "markdown",
   "id": "6a31fd23-2fcd-4ac5-8c04-f2b2fd77e656",
   "metadata": {},
   "source": [
    "### Importing opsets"
   ]
  },
  {
   "cell_type": "markdown",
   "id": "8612cd9d-99a7-47e4-bff2-594b4b5f4571",
   "metadata": {},
   "source": [
    "In ONNX, operators live in domains (kind of like packages), which are versioned with natural numbers.\n",
    "\n",
    "- For example, the current (default) domain is `ai.onnx` at version 17.\n",
    "- Another standard domain that we often use, as it is useful for traditional ML, is `ai.onnx.ml` - currently at version 3.\n",
    "\n",
    "A domain and a version is often called an *opset* (operator set). Spox exposes them as Python modules, where all the definitions for included operators reside:"
   ]
  },
  {
   "cell_type": "code",
   "execution_count": 6,
   "id": "f40575df-3b29-497d-805a-76653c6f4601",
   "metadata": {
    "tags": []
   },
   "outputs": [],
   "source": [
    "import spox.opset.ai.onnx.v17 as op    # op - ai.onnx@17\n",
    "import spox.opset.ai.onnx.ml.v3 as ml  # ml - ai.onnx.ml@3"
   ]
  },
  {
   "cell_type": "markdown",
   "id": "bc8511b5-fbc8-45a3-a9a4-ccfdef5149e5",
   "metadata": {},
   "source": [
    "These operators are exposed as *operator constructors*, which are just Python functions that you give Vars and other parameters to. \n",
    "They return more Vars.\n",
    "\n",
    "For example, the `ai.onnx@17::Add` operator has the constructor `add`:\n",
    "\n",
    "---"
   ]
  },
  {
   "cell_type": "code",
   "execution_count": 7,
   "id": "98c79a5b-52c0-4b95-85b4-7cca0fe40a19",
   "metadata": {
    "tags": []
   },
   "outputs": [
    {
     "name": "stdout",
     "output_type": "stream",
     "text": [
      "Help on function add in module spox.opset.ai.onnx.v17:\n",
      "\n",
      "add(A: spox._var.Var, B: spox._var.Var) -> spox._var.Var\n",
      "    Performs element-wise binary addition (with Numpy-style broadcasting\n",
      "    support).\n",
      "    \n",
      "    This operator supports **multidirectional (i.e., Numpy-style)\n",
      "    broadcasting**; for more details please check `the\n",
      "    doc <https://github.com/onnx/onnx/blob/main/docs/Broadcasting.md>`__.\n",
      "    \n",
      "    (Opset 14 change): Extend supported types to include uint8, int8,\n",
      "    uint16, and int16.\n",
      "    \n",
      "    Parameters\n",
      "    ==========\n",
      "    A\n",
      "        Type T.\n",
      "        First operand.\n",
      "    B\n",
      "        Type T.\n",
      "        Second operand.\n",
      "    \n",
      "    Returns\n",
      "    =======\n",
      "    C : Var\n",
      "        Type T.\n",
      "        Result, has same element type as two inputs\n",
      "    \n",
      "    Notes\n",
      "    =====\n",
      "    Signature: ``ai.onnx@14::Add``.\n",
      "    \n",
      "    Type constraints:\n",
      "     - T: `tensor(bfloat16)`, `tensor(double)`, `tensor(float)`, `tensor(float16)`, `tensor(int16)`, `tensor(int32)`, `tensor(int64)`, `tensor(int8)`, `tensor(uint16)`, `tensor(uint32)`, `tensor(uint64)`, `tensor(uint8)`\n",
      "\n"
     ]
    }
   ],
   "source": [
    "help(op.add)"
   ]
  },
  {
   "cell_type": "markdown",
   "id": "a1372cfc-dff1-4302-8f8b-77db22e9d57e",
   "metadata": {},
   "source": [
    "**This doc is auto-generated with internal schema docs and data within the `onnx` reference implementation.**"
   ]
  },
  {
   "cell_type": "markdown",
   "id": "663a04e8-446c-4ea5-b413-cce203b70027",
   "metadata": {},
   "source": [
    "---"
   ]
  },
  {
   "cell_type": "markdown",
   "id": "5b2edffb-bc37-4a6c-b208-b32ee7c20802",
   "metadata": {},
   "source": [
    "### Applying operators"
   ]
  },
  {
   "cell_type": "markdown",
   "id": "a2f2a562-8490-4af3-8302-d96c803e258c",
   "metadata": {},
   "source": [
    "We will now define the example network from the slides. Start with the necessary arguments:"
   ]
  },
  {
   "cell_type": "code",
   "execution_count": 8,
   "id": "8bcfde4b-69ba-47e0-85ef-7a3399a78c59",
   "metadata": {
    "tags": []
   },
   "outputs": [],
   "source": [
    "a = spox.argument(spox.Tensor(np.int64, (\"N\", \"M\")))\n",
    "b = spox.argument(spox.Tensor(np.int64, (\"N\", 1)))\n",
    "x = spox.argument(spox.Tensor(np.int64, (\"M\", 1)))"
   ]
  },
  {
   "cell_type": "markdown",
   "id": "e2d096aa-f284-4be5-bfc6-049bcc3c7fbf",
   "metadata": {},
   "source": [
    "Now, apply all of the necessary operators. Notice that intermediate values are just Vars that we pass on, and Spox is typing them!"
   ]
  },
  {
   "cell_type": "code",
   "execution_count": 9,
   "id": "134dd41c-de38-449c-90e8-7b8c5bd60917",
   "metadata": {
    "tags": []
   },
   "outputs": [
    {
     "data": {
      "text/plain": [
       "<Var from ai.onnx@13::MatMul->Y of int64[N][1]>"
      ]
     },
     "execution_count": 9,
     "metadata": {},
     "output_type": "execute_result"
    }
   ],
   "source": [
    "ax = op.matmul(a, x)\n",
    "ax"
   ]
  },
  {
   "cell_type": "code",
   "execution_count": 10,
   "id": "11962719-388a-473d-b1d2-b2f6ce4a56cc",
   "metadata": {
    "tags": []
   },
   "outputs": [
    {
     "data": {
      "text/plain": [
       "<Var from ai.onnx@13::ReduceSum->reduced of int64[1][1]>"
      ]
     },
     "execution_count": 10,
     "metadata": {},
     "output_type": "execute_result"
    }
   ],
   "source": [
    "summed = op.reduce_sum(op.add(b, ax))\n",
    "summed"
   ]
  },
  {
   "cell_type": "markdown",
   "id": "36827e2c-54a0-4240-9349-6747498b7a83",
   "metadata": {},
   "source": [
    "As we're reshaping this into a scalar at the end (scalars have an empty shape), we need to construct a Var representing that constant.\n"
   ]
  },
  {
   "cell_type": "code",
   "execution_count": 11,
   "id": "60d40d16-448d-428c-8eab-713429a798a2",
   "metadata": {
    "tags": []
   },
   "outputs": [
    {
     "data": {
      "text/plain": [
       "<Var from ai.onnx@13::Constant->output of int64[0] = []>"
      ]
     },
     "execution_count": 11,
     "metadata": {},
     "output_type": "execute_result"
    }
   ],
   "source": [
    "empty_shape = op.constant(value=np.array([], dtype=np.int64))\n",
    "empty_shape"
   ]
  },
  {
   "cell_type": "code",
   "execution_count": 12,
   "id": "2f3387ce-0a44-4625-9a3b-41f53f48b77f",
   "metadata": {
    "tags": []
   },
   "outputs": [
    {
     "data": {
      "text/plain": [
       "<Var from ai.onnx@14::Reshape->reshaped of int64>"
      ]
     },
     "execution_count": 12,
     "metadata": {},
     "output_type": "execute_result"
    }
   ],
   "source": [
    "result = op.reshape(summed, empty_shape)\n",
    "result"
   ]
  },
  {
   "cell_type": "markdown",
   "id": "dbece477-a36b-4144-8a25-1bd5a049a53c",
   "metadata": {},
   "source": [
    "## Exceptions"
   ]
  },
  {
   "cell_type": "markdown",
   "id": "f17a955f-7d4c-41bf-be36-9c041be9d3cc",
   "metadata": {},
   "source": [
    "This is a short demonstration that Spox will stop you from making ONNX type errors as soon as possible."
   ]
  },
  {
   "cell_type": "code",
   "execution_count": 13,
   "id": "ea78eff4-7492-4445-8fcb-68b071a5acaa",
   "metadata": {
    "tags": []
   },
   "outputs": [
    {
     "name": "stdout",
     "output_type": "stream",
     "text": [
      "InferenceError: [ShapeInferenceError] (op_type:Add, node name: _this_): B typestr: T, has unsupported type: tensor(string) -- for Add: inputs [A: int64[N][M], B: str = <Propagated abc: str>]\n"
     ]
    }
   ],
   "source": [
    "try:\n",
    "    # Add a matrix of integers to a string\n",
    "    op.add(a, op.constant(value_string=\"abc\"))\n",
    "except Exception as e:\n",
    "    print(f\"{type(e).__name__}: {e}\")"
   ]
  },
  {
   "cell_type": "markdown",
   "id": "ca66e5b2-6b9a-4007-a6f1-a46b9b724542",
   "metadata": {},
   "source": [
    "The slightly unfortunate formatting of the error is due to the fact it is *hardcoded in ONNX's C++ implementation* of type inference. \n",
    "\n",
    "What we *can* read from it, though:\n",
    "\n",
    "- The traceback (not displayed here) does lead to the offending line - the failing operator is an Add.\n",
    "- We inputted types `int64[N][M]` and a `str` (as a side note, here Spox knows it's of constant value `\"abc\"`).\n",
    "- The input called `B` of type variable `T` - these are explained in the docstring - was a tensor of strings, which is unsupported."
   ]
  },
  {
   "cell_type": "code",
   "execution_count": 14,
   "id": "50e83656-bc86-4e06-b981-83dbb227f979",
   "metadata": {
    "tags": []
   },
   "outputs": [
    {
     "name": "stdout",
     "output_type": "stream",
     "text": [
      "InferenceError: [ShapeInferenceError] Shape inference error(s): (op_type:Add, node name: _this_): [ShapeInferenceError] Incompatible dimensions\n",
      " -- for Add: inputs [A: int64[2] = <Propagated [1 2]: int64[2]>, B: int64[3] = <Propagated [1 2 3]: int64[3]>]\n"
     ]
    }
   ],
   "source": [
    "try:\n",
    "    # Add mismatched-length vectors\n",
    "    op.add(op.const([1, 2]), op.const([1, 2, 3]))\n",
    "except Exception as e:\n",
    "    print(f\"{type(e).__name__}: {e}\")"
   ]
  },
  {
   "cell_type": "markdown",
   "id": "f15899f8-a9d8-4b6f-925e-a85a54925c2c",
   "metadata": {},
   "source": [
    "## Building"
   ]
  },
  {
   "cell_type": "markdown",
   "id": "941f688f-0e30-4e84-a900-ca866f1844b6",
   "metadata": {},
   "source": [
    "Once you've constructed the computation you want, the last step is to _build_ an `onnx.ModelProto`. First, locate all the results you would like to include and arguments you used to compute them:\n"
   ]
  },
  {
   "cell_type": "code",
   "execution_count": 15,
   "id": "0ae3ff88",
   "metadata": {
    "tags": []
   },
   "outputs": [
    {
     "data": {
      "text/plain": [
       "(<Var from spox.internal@0::Argument->arg of int64[N][M]>,\n",
       " <Var from spox.internal@0::Argument->arg of int64[N][1]>,\n",
       " <Var from spox.internal@0::Argument->arg of int64[M][1]>)"
      ]
     },
     "execution_count": 15,
     "metadata": {},
     "output_type": "execute_result"
    }
   ],
   "source": [
    "a, b, x"
   ]
  },
  {
   "cell_type": "code",
   "execution_count": 16,
   "id": "a73be142-f6ab-40f1-9321-1a5ae85e50b2",
   "metadata": {
    "tags": []
   },
   "outputs": [
    {
     "data": {
      "text/plain": [
       "<Var from ai.onnx@14::Reshape->reshaped of int64>"
      ]
     },
     "execution_count": 16,
     "metadata": {},
     "output_type": "execute_result"
    }
   ],
   "source": [
    "result"
   ]
  },
  {
   "cell_type": "markdown",
   "id": "78eebbf0",
   "metadata": {},
   "source": [
    "Once you've reached this step there is nothing more to do than invoke the compilation process and get an ONNX model.\n",
    "\n",
    "The `build(inputs: dict[str, Var], outputs: dict[str, Var]) -> onnx.ModelProto` takes the 'signature' of the built model. The dictionaries specify the name and ordering of the model inputs/outputs."
   ]
  },
  {
   "cell_type": "code",
   "execution_count": 17,
   "id": "88b84508-0f50-4558-a10a-2c6571de4a43",
   "metadata": {
    "tags": []
   },
   "outputs": [],
   "source": [
    "onnx_model = spox.build({'a': a, 'b': b, 'x': x}, {'y': result})"
   ]
  },
  {
   "cell_type": "markdown",
   "id": "2dad0871-7c01-4663-83dc-04f4b889f9b8",
   "metadata": {
    "tags": []
   },
   "source": [
    "## Working with ONNX"
   ]
  },
  {
   "cell_type": "markdown",
   "id": "e2b2ba1b",
   "metadata": {},
   "source": [
    "### Exploring"
   ]
  },
  {
   "cell_type": "markdown",
   "id": "6c46efd5-6c10-48e0-ba9c-2c0744422434",
   "metadata": {},
   "source": [
    "We start with importing the ONNX reference implementation and ONNX Runtime (ORT)."
   ]
  },
  {
   "cell_type": "code",
   "execution_count": 18,
   "id": "413e91c4-4e80-4eeb-9052-45b77dc7c80b",
   "metadata": {
    "tags": []
   },
   "outputs": [],
   "source": [
    "import onnx\n",
    "import onnxruntime"
   ]
  },
  {
   "cell_type": "markdown",
   "id": "406b4526-9204-4bf2-9296-bf1892bb3983",
   "metadata": {},
   "source": [
    "### Saving and visualisation"
   ]
  },
  {
   "cell_type": "markdown",
   "id": "e3b93fed-02bf-4193-b322-4ff18a4b1670",
   "metadata": {},
   "source": [
    "Our model is serializable to a bunch of bytes (since it's a protobuf object):"
   ]
  },
  {
   "cell_type": "code",
   "execution_count": 19,
   "id": "59feb2e1-66ac-4523-aee4-8d35edee39e4",
   "metadata": {
    "tags": []
   },
   "outputs": [
    {
     "data": {
      "text/plain": [
       "onnx.onnx_ml_pb2.ModelProto"
      ]
     },
     "execution_count": 19,
     "metadata": {},
     "output_type": "execute_result"
    }
   ],
   "source": [
    "type(onnx_model)"
   ]
  },
  {
   "cell_type": "code",
   "execution_count": 20,
   "id": "ff829ba6-07ac-40f2-bde8-722c8cc3ea8d",
   "metadata": {
    "tags": []
   },
   "outputs": [
    {
     "data": {
      "text/plain": [
       "b'\\x08\\x08\\x12\\x04spox2\\x00:\\xef\\x03\\n&\\n\\x01a\\n\\x01x\\x12\\nMatMul_0_Y\\x1a\\x08MatMul_0\"\\x06MatMul:\\x00\\n&\\n\\x01b\\n\\nMatMul_0_Y\\x12\\x07Add_0_C\\x1a\\x05Add_0\"\\x03Add:\\x00\\nf\\n\\x07Add_0_C\\x12\\x13ReduceSum_0_reduced\\x1a\\x0bReduceSum_0\"\\tReduceSum*\\x0f\\n\\x08keepdims\\x18\\x01\\xa0\\x01\\x02*\\x1b\\n\\x14noop_with_empty_axes\\x18\\x00\\xa0\\x01\\x02:\\x00\\n?\\x12\\x11Constant_0_output\\x1a\\nConstant_0\"\\x08Constant*\\x12\\n\\x05value*\\x06\\x08\\x00\\x10\\x07B\\x00\\xa0\\x01\\x04:\\x00\\nd\\n\\x13ReduceSum_0_reduced\\n\\x11Constant_0_output\\x12\\x12Reshape_0_reshaped\\x1a\\tReshape_0\"\\x07Reshape*\\x10\\n\\tallowzero\\x18\\x00\\xa0\\x01\\x02:\\x00\\n2\\n\\x12Reshape_0_reshaped\\x12\\x01y\\x1a\\x0fIntroduce_0_id0\"\\x08Identity\\x12\\nspox_graphZ\\x15\\n\\x01a\\x12\\x10\\n\\x0e\\x08\\x07\\x12\\n\\n\\x03\\x12\\x01N\\n\\x03\\x12\\x01MZ\\x14\\n\\x01b\\x12\\x0f\\n\\r\\x08\\x07\\x12\\t\\n\\x03\\x12\\x01N\\n\\x02\\x08\\x01Z\\x14\\n\\x01x\\x12\\x0f\\n\\r\\x08\\x07\\x12\\t\\n\\x03\\x12\\x01M\\n\\x02\\x08\\x01b\\x0b\\n\\x01y\\x12\\x06\\n\\x04\\x08\\x07\\x12\\x00B\\x04\\n\\x00\\x10\\x0e'"
      ]
     },
     "execution_count": 20,
     "metadata": {},
     "output_type": "execute_result"
    }
   ],
   "source": [
    "onnx_model.SerializeToString()"
   ]
  },
  {
   "cell_type": "markdown",
   "id": "5f619469-f321-475c-a381-c974350952c4",
   "metadata": {},
   "source": [
    "It also has a pretty-print:"
   ]
  },
  {
   "cell_type": "code",
   "execution_count": 21,
   "id": "10fdd73d-4951-4afb-80f0-770e108ab1cd",
   "metadata": {
    "tags": []
   },
   "outputs": [
    {
     "data": {
      "text/plain": [
       "ir_version: 8\n",
       "producer_name: \"spox\"\n",
       "doc_string: \"\"\n",
       "graph {\n",
       "  node {\n",
       "    input: \"a\"\n",
       "    input: \"x\"\n",
       "    output: \"MatMul_0_Y\"\n",
       "    name: \"MatMul_0\"\n",
       "    op_type: \"MatMul\"\n",
       "    domain: \"\"\n",
       "  }\n",
       "  node {\n",
       "    input: \"b\"\n",
       "    input: \"MatMul_0_Y\"\n",
       "    output: \"Add_0_C\"\n",
       "    name: \"Add_0\"\n",
       "    op_type: \"Add\"\n",
       "    domain: \"\"\n",
       "  }\n",
       "  node {\n",
       "    input: \"Add_0_C\"\n",
       "    output: \"ReduceSum_0_reduced\"\n",
       "    name: \"ReduceSum_0\"\n",
       "    op_type: \"ReduceSum\"\n",
       "    attribute {\n",
       "      name: \"keepdims\"\n",
       "      i: 1\n",
       "      type: INT\n",
       "    }\n",
       "    attribute {\n",
       "      name: \"noop_with_empty_axes\"\n",
       "      i: 0\n",
       "      type: INT\n",
       "    }\n",
       "    domain: \"\"\n",
       "  }\n",
       "  node {\n",
       "    output: \"Constant_0_output\"\n",
       "    name: \"Constant_0\"\n",
       "    op_type: \"Constant\"\n",
       "    attribute {\n",
       "      name: \"value\"\n",
       "      t {\n",
       "        dims: 0\n",
       "        data_type: 7\n",
       "        name: \"\"\n",
       "      }\n",
       "      type: TENSOR\n",
       "    }\n",
       "    domain: \"\"\n",
       "  }\n",
       "  node {\n",
       "    input: \"ReduceSum_0_reduced\"\n",
       "    input: \"Constant_0_output\"\n",
       "    output: \"Reshape_0_reshaped\"\n",
       "    name: \"Reshape_0\"\n",
       "    op_type: \"Reshape\"\n",
       "    attribute {\n",
       "      name: \"allowzero\"\n",
       "      i: 0\n",
       "      type: INT\n",
       "    }\n",
       "    domain: \"\"\n",
       "  }\n",
       "  node {\n",
       "    input: \"Reshape_0_reshaped\"\n",
       "    output: \"y\"\n",
       "    name: \"Introduce_0_id0\"\n",
       "    op_type: \"Identity\"\n",
       "  }\n",
       "  name: \"spox_graph\"\n",
       "  input {\n",
       "    name: \"a\"\n",
       "    type {\n",
       "      tensor_type {\n",
       "        elem_type: 7\n",
       "        shape {\n",
       "          dim {\n",
       "            dim_param: \"N\"\n",
       "          }\n",
       "          dim {\n",
       "            dim_param: \"M\"\n",
       "          }\n",
       "        }\n",
       "      }\n",
       "    }\n",
       "  }\n",
       "  input {\n",
       "    name: \"b\"\n",
       "    type {\n",
       "      tensor_type {\n",
       "        elem_type: 7\n",
       "        shape {\n",
       "          dim {\n",
       "            dim_param: \"N\"\n",
       "          }\n",
       "          dim {\n",
       "            dim_value: 1\n",
       "          }\n",
       "        }\n",
       "      }\n",
       "    }\n",
       "  }\n",
       "  input {\n",
       "    name: \"x\"\n",
       "    type {\n",
       "      tensor_type {\n",
       "        elem_type: 7\n",
       "        shape {\n",
       "          dim {\n",
       "            dim_param: \"M\"\n",
       "          }\n",
       "          dim {\n",
       "            dim_value: 1\n",
       "          }\n",
       "        }\n",
       "      }\n",
       "    }\n",
       "  }\n",
       "  output {\n",
       "    name: \"y\"\n",
       "    type {\n",
       "      tensor_type {\n",
       "        elem_type: 7\n",
       "        shape {\n",
       "        }\n",
       "      }\n",
       "    }\n",
       "  }\n",
       "}\n",
       "opset_import {\n",
       "  domain: \"\"\n",
       "  version: 14\n",
       "}"
      ]
     },
     "execution_count": 21,
     "metadata": {},
     "output_type": "execute_result"
    }
   ],
   "source": [
    "onnx_model"
   ]
  },
  {
   "cell_type": "markdown",
   "id": "00888fe8-5e8f-4e4b-b5b8-6d1854b164c3",
   "metadata": {},
   "source": [
    "We could save it to an ONNX file and then visualise it at https://netron.app by a call like `onnx.save(onnx_model, \"example.onnx\")`."
   ]
  },
  {
   "cell_type": "markdown",
   "id": "23c307bc-8224-406c-9d8f-b0d70db5015b",
   "metadata": {},
   "source": [
    "<img src=\"example-model-netron.png\" width=200>"
   ]
  },
  {
   "cell_type": "markdown",
   "id": "5a95890a-c6c5-4cae-a998-511f79677ebd",
   "metadata": {},
   "source": [
    "*Nota bene*: the extra Identity at the end is a technical requirement of ONNX in some cases. It can be easily got rid of by using a model optimizer after compilation."
   ]
  },
  {
   "cell_type": "markdown",
   "id": "d3c9e2d0-8812-4286-beb9-5c06b71742e7",
   "metadata": {},
   "source": [
    "### Running"
   ]
  },
  {
   "cell_type": "markdown",
   "id": "3c8435e5-d4c2-4b3d-a71c-0a3c97aa8eba",
   "metadata": {},
   "source": [
    "We use ONNX Runtime's Python bindings to load and run the model.\n",
    "\n",
    "Notice that Spox is completely independent of this, as we are loading the model from the filesystem."
   ]
  },
  {
   "cell_type": "code",
   "execution_count": 22,
   "id": "7001a691-a69e-487c-bbcd-2e0ce6f00b2c",
   "metadata": {
    "tags": []
   },
   "outputs": [
    {
     "data": {
      "text/plain": [
       "[array(21, dtype=int64)]"
      ]
     },
     "execution_count": 22,
     "metadata": {},
     "output_type": "execute_result"
    }
   ],
   "source": [
    "onnxruntime.InferenceSession(onnx_model.SerializeToString()).run(None, {\n",
    "    'a': np.array([[1, 1], [1, 0]]),  # Fibonacci's sequence matrix\n",
    "    'x': np.array([[8], [5]]),        # F_6, F_5\n",
    "    'b': np.array([[1], [-1]])        # 1 - 1 = 0\n",
    "})  # -> F_8"
   ]
  },
  {
   "cell_type": "markdown",
   "id": "5d962dac-c676-4958-be87-7af114d856d4",
   "metadata": {},
   "source": [
    "## Summary"
   ]
  },
  {
   "cell_type": "markdown",
   "id": "1bf827f5-2f7e-4171-b630-9a72af6ed22d",
   "metadata": {},
   "source": [
    "A slightly longer program computing Gramian Angular Fields (come up in image processing with NNs, but mostly look nice)."
   ]
  },
  {
   "cell_type": "code",
   "execution_count": 23,
   "id": "85ab1eae-2bbe-45b2-a0d6-88636cdaed98",
   "metadata": {
    "tags": []
   },
   "outputs": [
    {
     "name": "stdout",
     "output_type": "stream",
     "text": [
      "u.type = float32[N][1][K], v.type = float32[1][M][K]\n",
      "gram.type = float32[N][M]\n"
     ]
    }
   ],
   "source": [
    "# Arguments\n",
    "arg_u = spox.argument(spox.Tensor(np.float32, (\"N\", \"K\")))\n",
    "arg_v = spox.argument(spox.Tensor(np.float32, (\"M\", \"K\")))\n",
    "\n",
    "# Manipulate shapes a bit to exploit broadcasting for an outer product computation\n",
    "u = op.unsqueeze(arg_u, op.const([1]))\n",
    "v = op.unsqueeze(arg_v, op.const([0]))\n",
    "\n",
    "print(f\"{u.type = !s}, {v.type = !s}\")\n",
    "\n",
    "# Dot product, along the last axis\n",
    "def dot(x: spox.Var, y: spox.Var) -> spox.Var:\n",
    "    # Multiply point wise \n",
    "    return op.reduce_sum(op.mul(x, y), axes=op.const([-1]))\n",
    "\n",
    "# Main computation - u*v - sqrt(1 - u^2)*sqrt(1 - v^2)\n",
    "gram = op.sub(\n",
    "    dot(u, v),\n",
    "    dot(\n",
    "        op.sqrt(op.sub(op.const(1.), op.mul(u, u))),\n",
    "        op.sqrt(op.sub(op.const(1.), op.mul(v, v))),\n",
    "    )\n",
    ")\n",
    "gram = op.squeeze(gram, axes=op.const([-1]))\n",
    "\n",
    "print(f\"{gram.type = !s}\")\n",
    "\n",
    "# Create a graph and run on example\n",
    "gaf_model = spox.build({'u': arg_u, 'v': arg_v}, {'gram': gram})\n",
    "gaf_session = onnxruntime.InferenceSession(gaf_model.SerializeToString())\n",
    "\n",
    "def gaf(us, vs):\n",
    "    return gaf_session.run(None, {\n",
    "        'u': np.array(us, dtype=np.float32), 'v': np.array(vs, dtype=np.float32)\n",
    "    })[0]"
   ]
  },
  {
   "cell_type": "code",
   "execution_count": 24,
   "id": "75e193da-fc3c-4878-8526-0db6c47303e7",
   "metadata": {
    "tags": []
   },
   "outputs": [],
   "source": [
    "import matplotlib.pyplot as plt"
   ]
  },
  {
   "cell_type": "code",
   "execution_count": 25,
   "id": "9b0638e2-d73f-4458-b50c-15f084160284",
   "metadata": {
    "tags": []
   },
   "outputs": [
    {
     "data": {
      "text/plain": [
       "<matplotlib.image.AxesImage at 0x12ad2b250>"
      ]
     },
     "execution_count": 25,
     "metadata": {},
     "output_type": "execute_result"
    },
    {
     "data": {
      "image/png": "[encoded data removed]",
      "text/plain": [
       "<Figure size 640x480 with 1 Axes>"
      ]
     },
     "metadata": {},
     "output_type": "display_data"
    }
   ],
   "source": [
    "example_gaf = gaf(\n",
    "    [(np.sin(1.3*x), x/10, np.cos(x)) for x in np.linspace(-10, 10, 48)],\n",
    "    [(np.sin(x), (x/10)**2, 0.7) for x in np.linspace(-10, 10, 48)]\n",
    ")\n",
    "plt.imshow(example_gaf)"
   ]
  },
  {
   "cell_type": "code",
   "execution_count": null,
   "id": "afa59d6e-16b1-4287-a4f6-41819a4cac78",
   "metadata": {},
   "outputs": [],
   "source": []
  }
 ],
 "metadata": {
  "kernelspec": {
   "display_name": "Python 3 (ipykernel)",
   "language": "python",
   "name": "python3"
  },
  "language_info": {
   "codemirror_mode": {
    "name": "ipython",
    "version": 3
   },
   "file_extension": ".py",
   "mimetype": "text/x-python",
   "name": "python",
   "nbconvert_exporter": "python",
   "pygments_lexer": "ipython3",
   "version": "3.11.0"
  }
 },
 "nbformat": 4,
 "nbformat_minor": 5
}
