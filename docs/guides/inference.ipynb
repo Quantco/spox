{
 "cells": [
  {
   "cell_type": "markdown",
   "source": [
    "# Inference"
   ],
   "metadata": {
    "collapsed": false
   }
  },
  {
   "cell_type": "markdown",
   "source": [
    "## Introduction"
   ],
   "metadata": {
    "collapsed": false
   }
  },
  {
   "cell_type": "markdown",
   "source": [
    "Spox attempts to perform inference on operators immediately as they are constructed in Python.\n",
    "This includes two main mechanisms: type (and shape) inference, and value propagation.\n",
    "\n",
    "Both are done on a best-effort basis and primarily based on ONNX implementations.\n",
    "Some type inference and value propagation routines may be _patched_ in the generated opset. This is a Python implementation within Spox. This attempts to follow the standard, but may also be imperfect and have bugs (as can be the standard ONNX implementations).\n",
    "\n",
    "Inference mechanisms work effectively in various contexts. To make this work, Spox expects that type information will be carried in `Var`s through the entire graph, as it is constructed. This enables raising Python exceptions as early as possible when type inference fails, as well as improving debug and reducing the requirement of specifying redundant type information in Python.\n",
    "\n",
    "The general mechanism of this is the following: the single standard node is built into a _singleton_ (single-node) model as `onnx.ModelProto`. This is then passed into `onnx` routines. Afterwards, the information is extracted and converted back into Spox."
   ],
   "metadata": {
    "collapsed": false
   }
  },
  {
   "cell_type": "code",
   "execution_count": 1,
   "outputs": [],
   "source": [
    "import numpy\n",
    "import spox\n",
    "import spox.opset.ai.onnx.v17 as op"
   ],
   "metadata": {
    "collapsed": false
   }
  },
  {
   "cell_type": "markdown",
   "source": [
    "## Type inference"
   ],
   "metadata": {
    "collapsed": false
   }
  },
  {
   "cell_type": "markdown",
   "source": [
    "Type and shape inference is run via `onnx.shape_inference.infer_shapes` on the singleton model. Types are converted to and from the ONNX representation internally. Some operators may have missing or incomplete type inference implementations (especially in ML operators of `ai.onnx.ml`), and may have a patch implemented in Spox.\n",
    "\n",
    "Patches can be currently found as an `infer_output_types` implementation in the respective Node class."
   ],
   "metadata": {
    "collapsed": false
   }
  },
  {
   "cell_type": "code",
   "execution_count": 2,
   "outputs": [],
   "source": [
    "x = spox.argument(spox.Tensor(float, ('N',)))\n",
    "y = spox.argument(spox.Tensor(float, ()))\n",
    "z = spox.argument(spox.Tensor(int, ('N', 'M')))"
   ],
   "metadata": {
    "collapsed": false
   }
  },
  {
   "cell_type": "code",
   "execution_count": 3,
   "outputs": [
    {
     "data": {
      "text/plain": "<Var from ai.onnx@14::Add->C of float64[N]>"
     },
     "execution_count": 3,
     "metadata": {},
     "output_type": "execute_result"
    }
   ],
   "source": [
    "# Broadcasting of (N) and () into (N)\n",
    "op.add(x, y)"
   ],
   "metadata": {
    "collapsed": false
   }
  },
  {
   "cell_type": "code",
   "execution_count": 4,
   "outputs": [
    {
     "data": {
      "text/plain": "<Var from ai.onnx@13::Cast->output of str[N][M]>"
     },
     "execution_count": 4,
     "metadata": {},
     "output_type": "execute_result"
    }
   ],
   "source": [
    "# Casting element type with a Cast\n",
    "op.cast(z, to=str)"
   ],
   "metadata": {
    "collapsed": false
   }
  },
  {
   "cell_type": "code",
   "execution_count": 5,
   "outputs": [
    {
     "data": {
      "text/plain": "<Var from ai.onnx@14::Reshape->reshaped of int64[?]>"
     },
     "execution_count": 5,
     "metadata": {},
     "output_type": "execute_result"
    }
   ],
   "source": [
    "# Reshape of a matrix into a vector\n",
    "op.reshape(z, op.constant(value_ints=[-1]))"
   ],
   "metadata": {
    "collapsed": false
   }
  },
  {
   "cell_type": "code",
   "execution_count": 6,
   "outputs": [
    {
     "data": {
      "text/plain": "<Var from ai.onnx@14::Add->C of float64[N][N]>"
     },
     "execution_count": 6,
     "metadata": {},
     "output_type": "execute_result"
    }
   ],
   "source": [
    "# Using a broadcast of (1, N) and (N, 1) into (N, N)\n",
    "op.add(\n",
    "    op.unsqueeze(x, op.constant(value_ints=[0])),\n",
    "    op.unsqueeze(x, op.constant(value_ints=[1]))\n",
    ")"
   ],
   "metadata": {
    "collapsed": false
   }
  },
  {
   "cell_type": "markdown",
   "source": [
    "> Spox does not have a facility for type hinting ``Var`` objects to perform type inference on the level of Python annotations. This is because the ONNX type system, and in particular typing tensors, is not expressible in type hints beyond possibly tensor element types.\n",
    "> This may be reconsidered in the future if libraries like ``numpy`` start supporting similar functions."
   ],
   "metadata": {
    "collapsed": false
   }
  },
  {
   "cell_type": "markdown",
   "source": [
    "## Value propagation"
   ],
   "metadata": {
    "collapsed": false
   },
   "execution_count": 0
  },
  {
   "cell_type": "markdown",
   "source": [
    "Value propagation in Spox is run via the `onnx.reference` module (added in 1.13) - the reference runtime implementation in Python. It replicates the _partial data propagation_ mechanism of type inference in ONNX, which is essentially constant folding.\n",
    "\n",
    "In Spox, a ``Var`` may have a constant value associated with it. If all input variables of a standard operator have a value, propagation will be attempted by running the singleton model through the reference implementation.\n",
    "\n",
    "The most common instance of value propagation is in the ``Reshape`` operator, where a constant target shape allows determining the resulting shape. If the target shape were not known, even the rank of the output shape could not be determined.\n",
    "\n",
    "Value propagation can also be thought of as **eager execution** mode within Spox, and is well-suited for experimenting with (standard) operators.\n",
    "\n",
    "Currently, there isn't a standard way of accessing the propagated value. It can be viewed when printed.\n",
    "Value propagation isn't usually patched as in most cases it is not critical to type inference. It is implemented by overriding the `propagate_values` method of Node classes."
   ],
   "metadata": {
    "collapsed": false
   }
  },
  {
   "cell_type": "code",
   "execution_count": 7,
   "outputs": [
    {
     "name": "stderr",
     "output_type": "stream",
     "text": [
      "/var/folders/pq/4ml6k7ms43x57s87q45nggxc0000gn/T/ipykernel_38246/3161864968.py:3: InferenceWarning: Output type for variable reshaped of ai.onnx@14::Reshape was not concrete - ValueError: Tensor float64[...] does not specify the shape -- in ?.\n",
      "  op.reshape(x, t)\n"
     ]
    },
    {
     "data": {
      "text/plain": "<Var from ai.onnx@14::Reshape->reshaped of float64[...]>"
     },
     "execution_count": 7,
     "metadata": {},
     "output_type": "execute_result"
    }
   ],
   "source": [
    "# Can't perform value propagation - type inference fails & warns\n",
    "t = spox.argument(spox.Tensor(int, (None,)))\n",
    "op.reshape(x, t)"
   ],
   "metadata": {
    "collapsed": false
   }
  },
  {
   "cell_type": "code",
   "execution_count": 8,
   "outputs": [
    {
     "data": {
      "text/plain": "<Var from ai.onnx@14::Reshape->reshaped of float64[1][2][3]>"
     },
     "execution_count": 8,
     "metadata": {},
     "output_type": "execute_result"
    }
   ],
   "source": [
    "# Trivial reshape example\n",
    "op.reshape(x, op.constant(value_ints=[1, 2, 3]))"
   ],
   "metadata": {
    "collapsed": false
   }
  },
  {
   "cell_type": "code",
   "execution_count": 9,
   "outputs": [
    {
     "data": {
      "text/plain": "<Var from ai.onnx@14::Reshape->reshaped of float64[3][5]>"
     },
     "execution_count": 9,
     "metadata": {},
     "output_type": "execute_result"
    }
   ],
   "source": [
    "s = op.add(\n",
    "    op.mul(op.constant(value_ints=[1, 2]), op.constant(value_int=2)),\n",
    "    op.constant(value_int=1)\n",
    ")  # [1, 2] * 2 + 1 = [3, 5]\n",
    "# Reshape with a basic constant fold\n",
    "op.reshape(x, s)"
   ],
   "metadata": {
    "collapsed": false
   }
  },
  {
   "cell_type": "markdown",
   "source": [
    "Constant variable values can also be seen in the string representation.\n",
    "Currently, there isn't a stable way of accessing them programmatically (the internal field is `_value`, but the representation isn't publicly specified)."
   ],
   "metadata": {
    "collapsed": false
   }
  },
  {
   "cell_type": "code",
   "execution_count": 10,
   "outputs": [],
   "source": [
    "def const(xs):\n",
    "    return op.constant(value=numpy.array(xs))"
   ],
   "metadata": {
    "collapsed": false
   }
  },
  {
   "cell_type": "code",
   "execution_count": 11,
   "outputs": [
    {
     "data": {
      "text/plain": "<Var from ai.onnx@14::Add->C of int64[3] = [2 3 4]>"
     },
     "execution_count": 11,
     "metadata": {},
     "output_type": "execute_result"
    }
   ],
   "source": [
    "# Trivial add\n",
    "op.add(\n",
    "    const(1),\n",
    "    const([1, 2, 3])\n",
    ")"
   ],
   "metadata": {
    "collapsed": false
   }
  },
  {
   "cell_type": "code",
   "execution_count": 12,
   "outputs": [
    {
     "data": {
      "text/plain": "<Var from ai.onnx@14::Reshape->reshaped of float64[2][2] = [[1. 2.]\n [3. 4.]]>"
     },
     "execution_count": 12,
     "metadata": {},
     "output_type": "execute_result"
    }
   ],
   "source": [
    "# Reshape\n",
    "mat = op.reshape(\n",
    "    const([1., 2., 3., 4.]),\n",
    "    const([2, 2])\n",
    ")\n",
    "mat"
   ],
   "metadata": {
    "collapsed": false
   }
  },
  {
   "cell_type": "code",
   "execution_count": 13,
   "outputs": [
    {
     "data": {
      "text/plain": "<Var from ai.onnx@13::MatMul->Y of float64[2][2] = [[ 7. 10.]\n [15. 22.]]>"
     },
     "execution_count": 13,
     "metadata": {},
     "output_type": "execute_result"
    }
   ],
   "source": [
    "# Composing value propagation\n",
    "op.matmul(mat, mat)"
   ],
   "metadata": {
    "collapsed": false
   }
  },
  {
   "cell_type": "code",
   "execution_count": 14,
   "outputs": [
    {
     "data": {
      "text/plain": "PropValue(type=Tensor(dtype=int64, shape=(3,)), value=array([2, 3, 4]))"
     },
     "execution_count": 14,
     "metadata": {},
     "output_type": "execute_result"
    }
   ],
   "source": [
    "# Unstable! Programmatic access\n",
    "_value = op.add(\n",
    "    const(1),\n",
    "    const([1, 2, 3])\n",
    ")._value\n",
    "assert (_value.value == numpy.array([2, 3, 4])).all()\n",
    "_value"
   ],
   "metadata": {
    "collapsed": false
   }
  }
 ],
 "metadata": {
  "kernelspec": {
   "display_name": "Python 3",
   "language": "python",
   "name": "python3"
  },
  "language_info": {
   "codemirror_mode": {
    "name": "ipython",
    "version": 2
   },
   "file_extension": ".py",
   "mimetype": "text/x-python",
   "name": "python",
   "nbconvert_exporter": "python",
   "pygments_lexer": "ipython2",
   "version": "2.7.6"
  }
 },
 "nbformat": 4,
 "nbformat_minor": 0
}
