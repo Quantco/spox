{
 "cells": [
  {
   "cell_type": "markdown",
   "source": [
    "# Inline"
   ],
   "metadata": {
    "collapsed": false
   }
  },
  {
   "cell_type": "markdown",
   "source": [
    "## Introduction"
   ],
   "metadata": {
    "collapsed": false
   }
  },
  {
   "cell_type": "markdown",
   "source": [
    "Spox implements the ``inline`` function, which allows inlining existing ONNX models in your own Spox model. Any valid model can be used - it can be produced directly by your code, another converter library, or just prepared beforehand.\n",
    "\n",
    "We'll go over three main applications of ``inline`` - composing existing models, embedding custom operators, and integration with existing converter libraries."
   ],
   "metadata": {
    "collapsed": false
   }
  },
  {
   "cell_type": "code",
   "execution_count": 1,
   "outputs": [],
   "source": [
    "import numpy\n",
    "import onnx\n",
    "import onnxruntime\n",
    "from spox import argument, build, inline, Tensor, Var\n",
    "import spox.opset.ai.onnx.v17 as op\n",
    "\n",
    "\n",
    "def run(model: onnx.ModelProto, **kwargs) -> list[numpy.ndarray]:\n",
    "    return onnxruntime.InferenceSession(model.SerializeToString()).run(\n",
    "        None,\n",
    "        {k: numpy.array(v) for k, v in kwargs.items()}\n",
    "    )"
   ],
   "metadata": {
    "collapsed": false
   }
  },
  {
   "cell_type": "markdown",
   "source": [
    "## Composition"
   ],
   "metadata": {
    "collapsed": false
   }
  },
  {
   "cell_type": "markdown",
   "source": [
    "First, prepare some example models to compose in Spox. We'll build them into ONNX, moving them out of Spox entirely.\n",
    "The same principle can be applied to existing models for which you have access to the ``onnx.ModelProto``."
   ],
   "metadata": {
    "collapsed": false
   }
  },
  {
   "cell_type": "code",
   "execution_count": 2,
   "outputs": [],
   "source": [
    "x, y = argument(Tensor(float, (None,))), argument(Tensor(float, (None,)))\n",
    "z = op.add(op.div(x, y), op.div(y, x))  # x/y + y/x\n",
    "harmonic_model = build({'x': x, 'y': y}, {'z': z})"
   ],
   "metadata": {
    "collapsed": false
   }
  },
  {
   "cell_type": "code",
   "execution_count": 3,
   "outputs": [],
   "source": [
    "v, t = argument(Tensor(float, (None,))), argument(Tensor(float, ()))\n",
    "w = op.abs(op.sub(v, t))  # |v - t|\n",
    "dist_model = build({'v': v, 't': t}, {'w': w})"
   ],
   "metadata": {
    "collapsed": false
   }
  },
  {
   "cell_type": "markdown",
   "source": [
    "To compose the models we'll create a new set of arguments and pass them into the functions returned by `inline(harmonic_model)` and `inline(dist_model)`. Those can be either passed positionally or as keyword arguments, following the naming in the model input list. A dictionary is returned, with ordering as in the model output list and keys being the output names."
   ],
   "metadata": {
    "collapsed": false
   }
  },
  {
   "cell_type": "code",
   "execution_count": 4,
   "outputs": [],
   "source": [
    "a, b = argument(Tensor(float, ('N',))), argument(Tensor(float, ('N',)))\n",
    "harmonic_res = inline(harmonic_model)(x=a, y=b)  # Use kwargs & dict result\n",
    "assert list(harmonic_res.keys()) == ['z']\n",
    "c = harmonic_res['z']"
   ],
   "metadata": {
    "collapsed": false
   }
  },
  {
   "cell_type": "code",
   "execution_count": 5,
   "outputs": [],
   "source": [
    "d = inline(dist_model)(c, op.constant(value=numpy.array(2.0)))"
   ],
   "metadata": {
    "collapsed": false
   }
  },
  {
   "cell_type": "markdown",
   "source": [
    "In summary, using the models $z = \\frac{x}{y} + \\frac{y}{x}$ and $w = v - t$ we constructed $d = \\left| \\frac{a}{b} + \\frac{b}{a} - 2 \\right|$."
   ],
   "metadata": {
    "collapsed": false
   }
  },
  {
   "cell_type": "code",
   "execution_count": 6,
   "outputs": [
    {
     "ename": "TypeError",
     "evalue": "Graph results must be Vars, not {<class 'dict'>}.",
     "output_type": "error",
     "traceback": [
      "\u001B[0;31m---------------------------------------------------------------------------\u001B[0m",
      "\u001B[0;31mTypeError\u001B[0m                                 Traceback (most recent call last)",
      "Cell \u001B[0;32mIn[6], line 1\u001B[0m\n\u001B[0;32m----> 1\u001B[0m harmonic_dist2_model \u001B[38;5;241m=\u001B[39m \u001B[43mbuild\u001B[49m\u001B[43m(\u001B[49m\u001B[43m{\u001B[49m\u001B[38;5;124;43m'\u001B[39;49m\u001B[38;5;124;43ma\u001B[39;49m\u001B[38;5;124;43m'\u001B[39;49m\u001B[43m:\u001B[49m\u001B[43m \u001B[49m\u001B[43ma\u001B[49m\u001B[43m,\u001B[49m\u001B[43m \u001B[49m\u001B[38;5;124;43m'\u001B[39;49m\u001B[38;5;124;43mb\u001B[39;49m\u001B[38;5;124;43m'\u001B[39;49m\u001B[43m:\u001B[49m\u001B[43m \u001B[49m\u001B[43mb\u001B[49m\u001B[43m}\u001B[49m\u001B[43m,\u001B[49m\u001B[43m \u001B[49m\u001B[43m{\u001B[49m\u001B[38;5;124;43m'\u001B[39;49m\u001B[38;5;124;43md\u001B[39;49m\u001B[38;5;124;43m'\u001B[39;49m\u001B[43m:\u001B[49m\u001B[43m \u001B[49m\u001B[43md\u001B[49m\u001B[43m}\u001B[49m\u001B[43m)\u001B[49m\n\u001B[1;32m      2\u001B[0m harmonic_dist2_model\n",
      "File \u001B[0;32m~/Desktop/Dev/spox/src/spox/_public.py:74\u001B[0m, in \u001B[0;36mbuild\u001B[0;34m(inputs, outputs)\u001B[0m\n\u001B[1;32m     53\u001B[0m \u001B[38;5;124;03m\"\"\"\u001B[39;00m\n\u001B[1;32m     54\u001B[0m \u001B[38;5;124;03mBuilds an ONNX Model with given model inputs and outputs.\u001B[39;00m\n\u001B[1;32m     55\u001B[0m \n\u001B[0;32m   (...)\u001B[0m\n\u001B[1;32m     71\u001B[0m \u001B[38;5;124;03m    The returned model may be mutated after building to add metadata, docstrings, etc.\u001B[39;00m\n\u001B[1;32m     72\u001B[0m \u001B[38;5;124;03m\"\"\"\u001B[39;00m\n\u001B[1;32m     73\u001B[0m \u001B[38;5;28;01mwith\u001B[39;00m _temporary_renames(\u001B[38;5;241m*\u001B[39m\u001B[38;5;241m*\u001B[39minputs):\n\u001B[0;32m---> 74\u001B[0m     graph \u001B[38;5;241m=\u001B[39m \u001B[43mresults\u001B[49m\u001B[43m(\u001B[49m\u001B[38;5;241;43m*\u001B[39;49m\u001B[38;5;241;43m*\u001B[39;49m\u001B[43moutputs\u001B[49m\u001B[43m)\u001B[49m\n\u001B[1;32m     75\u001B[0m     graph \u001B[38;5;241m=\u001B[39m graph\u001B[38;5;241m.\u001B[39mwith_arguments(\u001B[38;5;241m*\u001B[39minputs\u001B[38;5;241m.\u001B[39mvalues())\n\u001B[1;32m     76\u001B[0m     \u001B[38;5;28;01mreturn\u001B[39;00m graph\u001B[38;5;241m.\u001B[39mto_onnx_model()\n",
      "File \u001B[0;32m~/Desktop/Dev/spox/src/spox/_graph.py:439\u001B[0m, in \u001B[0;36mresults\u001B[0;34m(**kwargs)\u001B[0m\n\u001B[1;32m    426\u001B[0m \u001B[38;5;28;01mdef\u001B[39;00m \u001B[38;5;21mresults\u001B[39m(\u001B[38;5;241m*\u001B[39m\u001B[38;5;241m*\u001B[39mkwargs: Var) \u001B[38;5;241m-\u001B[39m\u001B[38;5;241m>\u001B[39m Graph:\n\u001B[1;32m    427\u001B[0m     \u001B[38;5;124;03m\"\"\"\u001B[39;00m\n\u001B[1;32m    428\u001B[0m \u001B[38;5;124;03m    Use this function to construct a ``Graph`` object.\u001B[39;00m\n\u001B[1;32m    429\u001B[0m \n\u001B[0;32m   (...)\u001B[0m\n\u001B[1;32m    437\u001B[0m \u001B[38;5;124;03m        Graph with the results given in `kwargs`, in the same order. Keys are used as names for the results.\u001B[39;00m\n\u001B[1;32m    438\u001B[0m \u001B[38;5;124;03m    \"\"\"\u001B[39;00m\n\u001B[0;32m--> 439\u001B[0m     \u001B[38;5;28;01mreturn\u001B[39;00m \u001B[43mGraph\u001B[49m\u001B[43m(\u001B[49m\u001B[43mkwargs\u001B[49m\u001B[43m)\u001B[49m\n",
      "File \u001B[0;32m<string>:10\u001B[0m, in \u001B[0;36m__init__\u001B[0;34m(self, _results, _name, _doc_string, _arguments, _extra_opset_req, _constructor, _build_result)\u001B[0m\n",
      "File \u001B[0;32m~/Desktop/Dev/spox/src/spox/_graph.py:154\u001B[0m, in \u001B[0;36mGraph.__post_init__\u001B[0;34m(self)\u001B[0m\n\u001B[1;32m    152\u001B[0m \u001B[38;5;28;01mdef\u001B[39;00m \u001B[38;5;21m__post_init__\u001B[39m(\u001B[38;5;28mself\u001B[39m):\n\u001B[1;32m    153\u001B[0m     \u001B[38;5;28;01mif\u001B[39;00m \u001B[38;5;28many\u001B[39m(\u001B[38;5;129;01mnot\u001B[39;00m \u001B[38;5;28misinstance\u001B[39m(var, Var) \u001B[38;5;28;01mfor\u001B[39;00m var \u001B[38;5;129;01min\u001B[39;00m \u001B[38;5;28mself\u001B[39m\u001B[38;5;241m.\u001B[39m_results\u001B[38;5;241m.\u001B[39mvalues()):\n\u001B[0;32m--> 154\u001B[0m         \u001B[38;5;28;01mraise\u001B[39;00m \u001B[38;5;167;01mTypeError\u001B[39;00m(\n\u001B[1;32m    155\u001B[0m             \u001B[38;5;124mf\u001B[39m\u001B[38;5;124m\"\u001B[39m\u001B[38;5;124mGraph results must be Vars, not \u001B[39m\u001B[38;5;132;01m{\u001B[39;00m\u001B[38;5;28mset\u001B[39m(\u001B[38;5;28mtype\u001B[39m(obj) \u001B[38;5;28;01mfor\u001B[39;00m obj \u001B[38;5;129;01min\u001B[39;00m \u001B[38;5;28mself\u001B[39m\u001B[38;5;241m.\u001B[39m_results\u001B[38;5;241m.\u001B[39mvalues()) \u001B[38;5;241m-\u001B[39m {Var}\u001B[38;5;132;01m}\u001B[39;00m\u001B[38;5;124m.\u001B[39m\u001B[38;5;124m\"\u001B[39m\n\u001B[1;32m    156\u001B[0m         )\n\u001B[1;32m    157\u001B[0m     \u001B[38;5;28;01mif\u001B[39;00m \u001B[38;5;28mself\u001B[39m\u001B[38;5;241m.\u001B[39m_arguments \u001B[38;5;129;01mis\u001B[39;00m \u001B[38;5;129;01mnot\u001B[39;00m \u001B[38;5;28;01mNone\u001B[39;00m \u001B[38;5;129;01mand\u001B[39;00m \u001B[38;5;28many\u001B[39m(\n\u001B[1;32m    158\u001B[0m         \u001B[38;5;129;01mnot\u001B[39;00m \u001B[38;5;28misinstance\u001B[39m(var, Var) \u001B[38;5;28;01mfor\u001B[39;00m var \u001B[38;5;129;01min\u001B[39;00m \u001B[38;5;28mself\u001B[39m\u001B[38;5;241m.\u001B[39m_arguments\n\u001B[1;32m    159\u001B[0m     ):\n\u001B[1;32m    160\u001B[0m         \u001B[38;5;28;01mraise\u001B[39;00m \u001B[38;5;167;01mTypeError\u001B[39;00m(\n\u001B[1;32m    161\u001B[0m             \u001B[38;5;124mf\u001B[39m\u001B[38;5;124m\"\u001B[39m\u001B[38;5;124mGraph results must be Vars, not \u001B[39m\u001B[38;5;132;01m{\u001B[39;00m\u001B[38;5;28mset\u001B[39m(\u001B[38;5;28mtype\u001B[39m(obj) \u001B[38;5;28;01mfor\u001B[39;00m obj \u001B[38;5;129;01min\u001B[39;00m \u001B[38;5;28mself\u001B[39m\u001B[38;5;241m.\u001B[39m_arguments) \u001B[38;5;241m-\u001B[39m {Var}\u001B[38;5;132;01m}\u001B[39;00m\u001B[38;5;124m.\u001B[39m\u001B[38;5;124m\"\u001B[39m\n\u001B[1;32m    162\u001B[0m         )\n",
      "\u001B[0;31mTypeError\u001B[0m: Graph results must be Vars, not {<class 'dict'>}."
     ]
    }
   ],
   "source": [
    "harmonic_dist2_model = build({'a': a, 'b': b}, {'d': d})\n",
    "harmonic_dist2_model"
   ],
   "metadata": {
    "collapsed": false
   }
  },
  {
   "cell_type": "markdown",
   "source": [
    "## Custom operators"
   ],
   "metadata": {
    "collapsed": false
   }
  },
  {
   "cell_type": "markdown",
   "source": [
    "Not all operators may be pre-generated in Spox. A simple way to embed a custom operator in Spox is to use ``inline`` with a hand-crafted call with the operator. A wrapper can also perform basic type checking and process some attributes. We'll use the example of the non-standard `Inverse` operator, available in `onnxruntime`."
   ],
   "metadata": {
    "collapsed": false
   }
  },
  {
   "cell_type": "code",
   "execution_count": null,
   "outputs": [],
   "source": [
    "def inverse(m: Var) -> Var:\n",
    "    # Asserts argument is a tensor and checks its dtype\n",
    "    dtype = m.unwrap_tensor().dtype\n",
    "    # Do a basic type check\n",
    "    if dtype not in (numpy.float32, numpy.float64):\n",
    "        raise TypeError(\"Input element type expected to be float32/float64.\")\n",
    "    # We'll use this to construct type information for inlined model input/output\n",
    "    tensor_dtype = onnx.helper.np_dtype_to_tensor_dtype(dtype)\n",
    "    # Construct the inlined model\n",
    "    inverse_model = onnx.helper.make_model(\n",
    "        onnx.helper.make_graph(\n",
    "            [onnx.helper.make_node(\"Inverse\", [\"i\"], [\"o\"], domain=\"com.microsoft\")],\n",
    "            \"inverse_graph\",\n",
    "            [onnx.helper.make_tensor_value_info(\"i\", tensor_dtype, (None, None))],\n",
    "            [onnx.helper.make_tensor_value_info(\"o\", tensor_dtype, (None, None))]\n",
    "        ),\n",
    "        opset_imports=[\n",
    "            onnx.helper.make_opsetid(\"\", 16),\n",
    "            onnx.helper.make_opsetid(\"com.microsoft\", 1)\n",
    "        ]\n",
    "    )\n",
    "    # Inline the model into Spox - unpack the only output into m1\n",
    "    (m1,) = inline(inverse_model)(m).values()\n",
    "    return m1"
   ],
   "metadata": {
    "collapsed": false
   }
  },
  {
   "cell_type": "markdown",
   "source": [
    "In this case, Spox will use the type information in the constructed model to check that the passed argument is a matrix (tensor of rank 2). We additionally assert the dtype is `float32` or `float64`.\n",
    "\n",
    "We can now use the wrapper in Spox."
   ],
   "metadata": {
    "collapsed": false
   }
  },
  {
   "cell_type": "code",
   "execution_count": null,
   "outputs": [],
   "source": [
    "f = argument(Tensor(float, ('N', 'N')))\n",
    "g = op.matmul(f, inverse(f))\n",
    "eye_model = build({'f': f}, {'g': g})"
   ],
   "metadata": {
    "collapsed": false
   }
  },
  {
   "cell_type": "markdown",
   "source": [
    "The model performs the toy computation of $F F^{-1}$, which obviously should equal $\\mathbf{I}$ (unless $F$ isn't invertible).\n",
    "We can check this is the case when ``eye_model`` is run in ONNX Runtime:"
   ],
   "metadata": {
    "collapsed": false
   }
  },
  {
   "cell_type": "code",
   "execution_count": null,
   "outputs": [],
   "source": [
    "(result,) = run(eye_model, f=numpy.array([[3., 7.], [1., 3.]]))\n",
    "assert numpy.isclose(result, numpy.eye(2)).all()\n",
    "result"
   ],
   "metadata": {
    "collapsed": false
   }
  },
  {
   "cell_type": "markdown",
   "source": [
    "## Converter libraries"
   ],
   "metadata": {
    "collapsed": false
   }
  },
  {
   "cell_type": "markdown",
   "source": [
    "Lastly, it is worth noting how Spox can use the product of other converter libraries. In practice this reduces to a simple routine: it is enough to make the existing library produce an `onnx.ModelProto` which can be passed to `inline`. The only requirement is knowledge of the signature (model inputs/outputs). Some metadata written to the model may be lost (like e.g. docstrings).\n",
    "\n",
    "For example, we could use `skl_model = skl2onnx.to_onnx(Pipeline([...]))` and then pass this to Spox via `inline(skl_model)(...)`."
   ],
   "metadata": {
    "collapsed": false
   }
  }
 ],
 "metadata": {
  "kernelspec": {
   "display_name": "Python 3",
   "language": "python",
   "name": "python3"
  },
  "language_info": {
   "codemirror_mode": {
    "name": "ipython",
    "version": 2
   },
   "file_extension": ".py",
   "mimetype": "text/x-python",
   "name": "python",
   "nbconvert_exporter": "python",
   "pygments_lexer": "ipython2",
   "version": "2.7.6"
  }
 },
 "nbformat": 4,
 "nbformat_minor": 0
}
